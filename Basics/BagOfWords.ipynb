{
 "cells": [
  {
   "cell_type": "code",
   "execution_count": 4,
   "metadata": {},
   "outputs": [
    {
     "name": "stdout",
     "output_type": "stream",
     "text": [
      "  (0, 44)\t1\n",
      "  (0, 40)\t1\n",
      "  (0, 50)\t1\n",
      "  (0, 52)\t1\n",
      "  (0, 10)\t1\n",
      "  (0, 80)\t1\n",
      "  (2, 62)\t1\n",
      "  (2, 87)\t1\n",
      "  (3, 21)\t1\n",
      "  (3, 87)\t1\n",
      "  (4, 86)\t1\n",
      "  (5, 34)\t1\n",
      "  (5, 43)\t1\n",
      "  (5, 49)\t1\n",
      "  (6, 12)\t1\n",
      "  (6, 17)\t1\n",
      "  (7, 68)\t1\n",
      "  (7, 3)\t1\n",
      "  (8, 69)\t1\n",
      "  (8, 45)\t1\n",
      "  (9, 2)\t1\n",
      "  (9, 74)\t1\n",
      "  (10, 20)\t1\n",
      "  (10, 71)\t1\n",
      "  (14, 16)\t1\n",
      "  :\t:\n",
      "  (54, 105)\t1\n",
      "  (55, 36)\t1\n",
      "  (55, 42)\t1\n",
      "  (56, 53)\t1\n",
      "  (58, 2)\t1\n",
      "  (58, 74)\t1\n",
      "  (59, 13)\t1\n",
      "  (60, 97)\t1\n",
      "  (61, 106)\t1\n",
      "  (62, 31)\t1\n",
      "  (63, 5)\t1\n",
      "  (64, 26)\t1\n",
      "  (66, 20)\t1\n",
      "  (66, 71)\t1\n",
      "  (68, 55)\t1\n",
      "  (68, 4)\t1\n",
      "  (68, 0)\t1\n",
      "  (74, 57)\t1\n",
      "  (74, 67)\t1\n",
      "  (74, 60)\t1\n",
      "  (75, 101)\t1\n",
      "  (75, 15)\t1\n",
      "  (75, 39)\t1\n",
      "  (75, 58)\t1\n",
      "  (75, 59)\t1\n"
     ]
    }
   ],
   "source": [
    "from sklearn.feature_extraction.text import CountVectorizer\n",
    "\n",
    "allsentences = open('../../../Acads/Sem4/CL2/Projectlist', 'r')\n",
    "\n",
    "vectorizer = CountVectorizer()\n",
    "X = vectorizer.fit_transform(allsentences)\n",
    "\n",
    "print(X)"
   ]
  }
 ],
 "metadata": {
  "kernelspec": {
   "display_name": "Python 3",
   "language": "python",
   "name": "python3"
  },
  "language_info": {
   "codemirror_mode": {
    "name": "ipython",
    "version": 3
   },
   "file_extension": ".py",
   "mimetype": "text/x-python",
   "name": "python",
   "nbconvert_exporter": "python",
   "pygments_lexer": "ipython3",
   "version": "3.7.3"
  }
 },
 "nbformat": 4,
 "nbformat_minor": 2
}
